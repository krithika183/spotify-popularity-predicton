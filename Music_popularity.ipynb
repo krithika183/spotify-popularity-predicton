{
 "cells": [
  {
   "cell_type": "markdown",
   "metadata": {
    "id": "V2XdWL3y8qST"
   },
   "source": [
    "IMPORT LIBRARIES"
   ]
  },
  {
   "cell_type": "code",
   "execution_count": 1,
   "metadata": {
    "id": "4-zBg4lT8wyK"
   },
   "outputs": [],
   "source": [
    "import pandas as pd\n",
    "from sklearn.model_selection import train_test_split\n",
    "from sklearn.linear_model import LinearRegression\n",
    "from sklearn.metrics import mean_squared_error, r2_score\n",
    "import matplotlib.pyplot as plt\n",
    "import numpy as np\n",
    "import joblib"
   ]
  },
  {
   "cell_type": "markdown",
   "metadata": {
    "id": "NV8yr7Tq89RG"
   },
   "source": [
    "LOAD DATASET"
   ]
  },
  {
   "cell_type": "code",
   "execution_count": 2,
   "metadata": {
    "colab": {
     "base_uri": "https://localhost:8080/",
     "height": 446
    },
    "id": "Fk31TJ029GLq",
    "outputId": "6114907b-09f9-4edf-f629-cb6d9aaa8476"
   },
   "outputs": [
    {
     "name": "stdout",
     "output_type": "stream",
     "text": [
      "--- LOADING DATASET ---\n",
      "Dataset loaded successfully. First 5 rows:\n",
      "   Unnamed: 0                  Track Name  \\\n",
      "0           0                 Not Like Us   \n",
      "1           1                     Houdini   \n",
      "2           2  BAND4BAND (feat. Lil Baby)   \n",
      "3           3          I Don't Wanna Wait   \n",
      "4           4                       Pedro   \n",
      "\n",
      "                                   Artists                  Album Name  \\\n",
      "0                           Kendrick Lamar                 Not Like Us   \n",
      "1                                   Eminem                     Houdini   \n",
      "2                    Central Cee, Lil Baby  BAND4BAND (feat. Lil Baby)   \n",
      "3                David Guetta, OneRepublic          I Don't Wanna Wait   \n",
      "4  Jaxomy, Agatino Romero, Raffaella Carrà                       Pedro   \n",
      "\n",
      "                 Album ID                Track ID  Popularity Release Date  \\\n",
      "0  5JjnoGJyOxfSZUZtk2rRwZ  6AI3ezQ4o3HUoP6Dhudph3          96   2024-05-04   \n",
      "1  6Xuu2z00jxRPZei4IJ9neK  2HYFX63wP3otVIvopRS99Z          94   2024-05-31   \n",
      "2  4AzPr5SUpNF553eC1d3aRy  7iabz12vAuVQYyekFIWJxD          91   2024-05-23   \n",
      "3  0wCLHkBRKcndhMQQpeo8Ji  331l3xABO0HMr1Kkyh2LZq          90   2024-04-05   \n",
      "4  5y6RXjI5VPR0RyInghTbf1  48lxT5qJF0yYyf2z4wB4xW          89   2024-03-29   \n",
      "\n",
      "   Duration (ms)  Explicit  ... Energy  Key  Loudness  Mode  Speechiness  \\\n",
      "0         274192      True  ...  0.472    1    -7.001     1       0.0776   \n",
      "1         227239      True  ...  0.887    9    -2.760     0       0.0683   \n",
      "2         140733      True  ...  0.764   11    -5.241     1       0.2040   \n",
      "3         149668     False  ...  0.714    1    -4.617     0       0.0309   \n",
      "4         144846     False  ...  0.936    9    -6.294     1       0.3010   \n",
      "\n",
      "   Acousticness  Instrumentalness  Liveness  Valence    Tempo  \n",
      "0        0.0107          0.000000    0.1410    0.214  101.061  \n",
      "1        0.0292          0.000002    0.0582    0.889  127.003  \n",
      "2        0.3590          0.000000    0.1190    0.886  140.113  \n",
      "3        0.0375          0.000000    0.2320    0.554  129.976  \n",
      "4        0.0229          0.000001    0.3110    0.844  151.019  \n",
      "\n",
      "[5 rows x 22 columns]\n",
      "\n",
      "Column names in the dataset:\n",
      "['Unnamed: 0', 'Track Name', 'Artists', 'Album Name', 'Album ID', 'Track ID', 'Popularity', 'Release Date', 'Duration (ms)', 'Explicit', 'External URLs', 'Danceability', 'Energy', 'Key', 'Loudness', 'Mode', 'Speechiness', 'Acousticness', 'Instrumentalness', 'Liveness', 'Valence', 'Tempo']\n"
     ]
    }
   ],
   "source": [
    "print(\"--- LOADING DATASET ---\")\n",
    "try:\n",
    "    df = pd.read_csv('Spotify_data.csv')\n",
    "    print(\"Dataset loaded successfully. First 5 rows:\")\n",
    "    print(df.head())\n",
    "    print(\"\\nColumn names in the dataset:\")\n",
    "    print(df.columns.tolist())\n",
    "except FileNotFoundError:\n",
    "    print(\"Error: 'Spotify_data.csv' not found. Please ensure the file is uploaded to your Colab environment.\")\n",
    "    df = pd.DataFrame() # Create an empty DataFrame to prevent further errors if file not found"
   ]
  },
  {
   "cell_type": "markdown",
   "metadata": {
    "id": "zls2fsSi9pqe"
   },
   "source": [
    "PREPROCESS DATA AND FEATURE ENGINEERING"
   ]
  },
  {
   "cell_type": "code",
   "execution_count": 3,
   "metadata": {
    "colab": {
     "base_uri": "https://localhost:8080/"
    },
    "id": "DinG4wtuAZuM",
    "outputId": "dd286e69-8cee-4a71-c05f-deb52bb3619b"
   },
   "outputs": [
    {
     "name": "stdout",
     "output_type": "stream",
     "text": [
      "\n",
      "--- PREPROCESSING DATA AND FEATURE ENGINEERING ---\n",
      "\n",
      "Missing values before preprocessing:\n",
      "Unnamed: 0          0\n",
      "Track Name          0\n",
      "Artists             0\n",
      "Album Name          0\n",
      "Album ID            0\n",
      "Track ID            0\n",
      "Popularity          0\n",
      "Release Date        0\n",
      "Duration (ms)       0\n",
      "Explicit            0\n",
      "External URLs       0\n",
      "Danceability        0\n",
      "Energy              0\n",
      "Key                 0\n",
      "Loudness            0\n",
      "Mode                0\n",
      "Speechiness         0\n",
      "Acousticness        0\n",
      "Instrumentalness    0\n",
      "Liveness            0\n",
      "Valence             0\n",
      "Tempo               0\n",
      "dtype: int64\n",
      "\n",
      "'Explicit' column converted to numerical:\n",
      "Explicit\n",
      "0    171\n",
      "1     56\n",
      "Name: count, dtype: int64\n",
      "\n",
      "New 'Release_Year' and 'Release_Month' columns created.\n",
      "  Release Date  Release_Year  Release_Month\n",
      "0   2024-05-04          2024              5\n",
      "1   2024-05-31          2024              5\n",
      "2   2024-05-23          2024              5\n",
      "3   2024-04-05          2024              4\n",
      "4   2024-03-29          2024              3\n",
      "\n",
      "All required features and target column are present in the dataframe (or handled).\n",
      "Shape of features (X): (227, 15)\n",
      "Shape of target (y): (227,)\n"
     ]
    }
   ],
   "source": [
    "print(\"\\n--- PREPROCESSING DATA AND FEATURE ENGINEERING ---\")\n",
    "if not df.empty:\n",
    "    # Check for missing values\n",
    "    print(\"\\nMissing values before preprocessing:\")\n",
    "    print(df.isnull().sum())\n",
    "\n",
    "    # 1. Convert 'Explicit' column to numerical (0 for False, 1 for True)\n",
    "    if 'Explicit' in df.columns:\n",
    "        df['Explicit'] = df['Explicit'].astype(int)\n",
    "        print(\"\\n'Explicit' column converted to numerical:\")\n",
    "        print(df['Explicit'].value_counts())\n",
    "    else:\n",
    "        print(\"Warning: 'Explicit' column not found. Skipping conversion.\")\n",
    "        df['Explicit'] = 0 # Default to 0 if not found, or handle as appropriate\n",
    "\n",
    "    # 2. Extract 'Release_Year' and 'Release_Month' from 'Release Date'\n",
    "    if 'Release Date' in df.columns:\n",
    "        df['Release Date'] = pd.to_datetime(df['Release Date'], errors='coerce')\n",
    "        df['Release_Year'] = df['Release Date'].dt.year.fillna(df['Release Date'].dt.year.median()).astype(int)\n",
    "        df['Release_Month'] = df['Release Date'].dt.month.fillna(df['Release Date'].dt.month.median()).astype(int)\n",
    "        print(\"\\nNew 'Release_Year' and 'Release_Month' columns created.\")\n",
    "        print(df[['Release Date', 'Release_Year', 'Release_Month']].head())\n",
    "    else:\n",
    "        print(\"Warning: 'Release Date' column not found. Skipping year/month extraction.\")\n",
    "        df['Release_Year'] = 2000 # Default value\n",
    "        df['Release_Month'] = 1 # Default value\n",
    "\n",
    "    # Define features (independent variables) and target (dependent variable)\n",
    "    # IMPORTANT: Ensure these names exactly match your CSV column headers.\n",
    "    features = [\n",
    "        'Danceability', 'Energy', 'Key', 'Loudness', 'Mode',\n",
    "        'Speechiness', 'Acousticness', 'Instrumentalness', 'Liveness',\n",
    "        'Valence', 'Tempo', 'Duration (ms)', # Note: This has a space and parentheses in the CSV\n",
    "        'Explicit', 'Release_Year', 'Release_Month'\n",
    "    ]\n",
    "\n",
    "    # The target variable is 'Popularity' (with capital 'P' as in your CSV)\n",
    "    target = 'Popularity'\n",
    "\n",
    "    # Filter features to include only those present in the DataFrame\n",
    "    available_features = [f for f in features if f in df.columns]\n",
    "    missing_features = [f for f in features if f not in df.columns]\n",
    "\n",
    "    if missing_features:\n",
    "        print(f\"\\nWarning: The following intended features are missing from the dataframe: {missing_features}. They will be excluded.\")\n",
    "\n",
    "    if target not in df.columns:\n",
    "        print(f\"\\nError: Target column '{target}' not found in the dataframe. Cannot proceed with model training.\")\n",
    "        X = pd.DataFrame() # Set X and y to empty to prevent further errors\n",
    "        y = pd.Series()\n",
    "    elif not available_features:\n",
    "        print(\"\\nError: No valid features found in the dataframe. Cannot proceed with model training.\")\n",
    "        X = pd.DataFrame() # Set X and y to empty to prevent further errors\n",
    "        y = pd.Series()\n",
    "    else:\n",
    "        print(\"\\nAll required features and target column are present in the dataframe (or handled).\")\n",
    "        X = df[available_features]\n",
    "        y = df[target]\n",
    "\n",
    "        # Handle any remaining NaN values in features (e.g., fill with median/mean)\n",
    "        for col in X.columns:\n",
    "            if X[col].isnull().any():\n",
    "                median_val = X[col].median()\n",
    "                X[col] = X[col].fillna(median_val)\n",
    "                print(f\"Filled NaN values in '{col}' with median: {median_val}\")\n",
    "\n",
    "        print(\"Shape of features (X):\", X.shape)\n",
    "        print(\"Shape of target (y):\", y.shape)\n",
    "else:\n",
    "    print(\"DataFrame is empty, skipping preprocessing and feature engineering.\")\n",
    "    X = pd.DataFrame()\n",
    "    y = pd.Series()\n"
   ]
  },
  {
   "cell_type": "markdown",
   "metadata": {
    "id": "x3G8h_T7Gkhe"
   },
   "source": [
    "SPLIT DATASET"
   ]
  },
  {
   "cell_type": "code",
   "execution_count": 4,
   "metadata": {
    "colab": {
     "base_uri": "https://localhost:8080/"
    },
    "id": "m_91HezrsiSr",
    "outputId": "9c41c044-6305-4130-a880-d510f26ae7e3"
   },
   "outputs": [
    {
     "name": "stdout",
     "output_type": "stream",
     "text": [
      "\n",
      "--- SPLITTING DATASET ---\n",
      "Shape of X_train: (181, 15)\n",
      "Shape of X_test: (46, 15)\n",
      "Shape of y_train: (181,)\n",
      "Shape of y_test: (46,)\n"
     ]
    }
   ],
   "source": [
    "print(\"\\n--- SPLITTING DATASET ---\")\n",
    "if not X.empty and not y.empty:\n",
    "    X_train, X_test, y_train, y_test = train_test_split(\n",
    "        X, y, test_size=0.2, random_state=42\n",
    "    )\n",
    "    print(\"Shape of X_train:\", X_train.shape)\n",
    "    print(\"Shape of X_test:\", X_test.shape)\n",
    "    print(\"Shape of y_train:\", y_train.shape)\n",
    "    print(\"Shape of y_test:\", y_test.shape)\n",
    "else:\n",
    "    print(\"X or y is empty, skipping data splitting.\")\n",
    "    X_train, X_test, y_train, y_test = pd.DataFrame(), pd.DataFrame(), pd.Series(), pd.Series()\n",
    "\n"
   ]
  },
  {
   "cell_type": "markdown",
   "metadata": {
    "id": "jEf5wjP8yxHD"
   },
   "source": [
    "TRAIN A MODEL"
   ]
  },
  {
   "cell_type": "code",
   "execution_count": 5,
   "metadata": {
    "colab": {
     "base_uri": "https://localhost:8080/",
     "height": 616
    },
    "id": "GT7zqryqzSk9",
    "outputId": "3cf55281-4590-4628-82df-c682daedf90f"
   },
   "outputs": [
    {
     "name": "stdout",
     "output_type": "stream",
     "text": [
      "\n",
      "--- TRAINING THE MODEL ---\n",
      "Training the Linear Regression model...\n",
      "Model training complete.\n"
     ]
    }
   ],
   "source": [
    "\n",
    "print(\"\\n--- TRAINING THE MODEL ---\")\n",
    "model = None # Initialize model to None\n",
    "if not X_train.empty and not y_train.empty:\n",
    "    model = LinearRegression()\n",
    "    print(\"Training the Linear Regression model...\")\n",
    "    model.fit(X_train, y_train)\n",
    "    print(\"Model training complete.\")\n",
    "else:\n",
    "    print(\"Training data (X_train or y_train) is empty, skipping model training.\")"
   ]
  },
  {
   "cell_type": "markdown",
   "metadata": {
    "id": "npOjxEjtumWp"
   },
   "source": [
    "EVALUATE THE MODEL"
   ]
  },
  {
   "cell_type": "code",
   "execution_count": 6,
   "metadata": {
    "colab": {
     "base_uri": "https://localhost:8080/"
    },
    "id": "JiRpN8ujDhRM",
    "outputId": "07e5b94f-74f0-4b21-86a1-a37118226f4c"
   },
   "outputs": [
    {
     "name": "stdout",
     "output_type": "stream",
     "text": [
      "\n",
      "--- EVALUATING THE MODEL ---\n",
      "Mean Squared Error (MSE): 61.6854\n",
      "Root Mean Squared Error (RMSE): 7.8540\n",
      "R-squared (R2) Score: 0.0732\n",
      "The R2 score indicates a weak model fit. Consider further feature engineering or different models.\n"
     ]
    }
   ],
   "source": [
    "print(\"\\n--- EVALUATING THE MODEL ---\")\n",
    "if model is not None and not X_test.empty and not y_test.empty:\n",
    "    y_pred = model.predict(X_test)\n",
    "    mse = mean_squared_error(y_test, y_pred)\n",
    "    rmse = np.sqrt(mse)\n",
    "    r2 = r2_score(y_test, y_pred)\n",
    "\n",
    "    print(f\"Mean Squared Error (MSE): {mse:.4f}\")\n",
    "    print(f\"Root Mean Squared Error (RMSE): {rmse:.4f}\")\n",
    "    print(f\"R-squared (R2) Score: {r2:.4f}\")\n",
    "\n",
    "    if r2 > 0.75:\n",
    "        print(\"The R2 score indicates a strong model fit.\")\n",
    "    elif r2 > 0.5:\n",
    "        print(\"The R2 score indicates a moderate model fit.\")\n",
    "    else:\n",
    "        print(\"The R2 score indicates a weak model fit. Consider further feature engineering or different models.\")\n",
    "else:\n",
    "    print(\"Model not trained or test data is empty, skipping evaluation.\")"
   ]
  },
  {
   "cell_type": "markdown",
   "metadata": {
    "id": "6sMVUXngu0ch"
   },
   "source": [
    "VISUALIZE ACTUAL VS PREDICTED"
   ]
  },
  {
   "cell_type": "code",
   "execution_count": 7,
   "metadata": {
    "colab": {
     "base_uri": "https://localhost:8080/",
     "height": 472
    },
    "id": "-FSWQy6mu8c6",
    "outputId": "90c237cb-d5f2-4e6f-ce2d-872d1682e9e4"
   },
   "outputs": [
    {
     "name": "stdout",
     "output_type": "stream",
     "text": [
      "\n",
      "--- VISUALIZING RESULTS ---\n"
     ]
    },
    {
     "data": {
      "image/png": "[encoded data removed]",
      "text/plain": [
       "<Figure size 1000x600 with 1 Axes>"
      ]
     },
     "metadata": {},
     "output_type": "display_data"
    }
   ],
   "source": [
    "print(\"\\n--- VISUALIZING RESULTS ---\")\n",
    "if 'y_test' in locals() and not y_test.empty and 'y_pred' in locals() and len(y_test) == len(y_pred):\n",
    "    plt.figure(figsize=(10, 6))\n",
    "    plt.scatter(y_test, y_pred, alpha=0.6, color='blue', edgecolors='w', linewidth=0.5)\n",
    "    # Ensure y.min() and y.max() are valid before plotting the line\n",
    "    if not y.empty:\n",
    "        plt.plot([y.min(), y.max()], [y.min(), y.max()], 'r--', lw=2, label='Perfect Prediction Line')\n",
    "    plt.xlabel(\"Actual Popularity\")\n",
    "    plt.ylabel(\"Predicted Popularity\")\n",
    "    plt.title(\"Actual vs Predicted Song Popularity\")\n",
    "    plt.grid(True, linestyle='--', alpha=0.7)\n",
    "    plt.legend()\n",
    "    plt.show()\n",
    "else:\n",
    "    print(\"Cannot visualize: Test data or predictions are not available or have mismatched lengths.\")"
   ]
  },
  {
   "cell_type": "markdown",
   "metadata": {
    "id": "EPghvnsyvCen"
   },
   "source": [
    "SAVE THE MODEL"
   ]
  },
  {
   "cell_type": "code",
   "execution_count": 8,
   "metadata": {
    "colab": {
     "base_uri": "https://localhost:8080/"
    },
    "id": "izkwcD-7vGAo",
    "outputId": "c23133e9-941b-42de-991f-d793a2279ff9"
   },
   "outputs": [
    {
     "name": "stdout",
     "output_type": "stream",
     "text": [
      "\n",
      "--- SAVING THE MODEL ---\n",
      "Model saved successfully as 'popularity_predictor_final.pkl'\n"
     ]
    }
   ],
   "source": [
    "print(\"\\n--- SAVING THE MODEL ---\")\n",
    "if model is not None:\n",
    "    model_filename = 'popularity_predictor_final.pkl'\n",
    "    joblib.dump(model, model_filename)\n",
    "    print(f\"Model saved successfully as '{model_filename}'\")\n",
    "else:\n",
    "    print(\"Model was not trained, skipping saving.\")\n"
   ]
  }
 ],
 "metadata": {
  "colab": {
   "provenance": []
  },
  "kernelspec": {
   "display_name": "Python [conda env:base] *",
   "language": "python",
   "name": "conda-base-py"
  },
  "language_info": {
   "codemirror_mode": {
    "name": "ipython",
    "version": 3
   },
   "file_extension": ".py",
   "mimetype": "text/x-python",
   "name": "python",
   "nbconvert_exporter": "python",
   "pygments_lexer": "ipython3",
   "version": "3.13.5"
  }
 },
 "nbformat": 4,
 "nbformat_minor": 4
}
